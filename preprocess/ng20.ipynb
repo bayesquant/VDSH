{
 "cells": [
  {
   "cell_type": "code",
   "execution_count": null,
   "metadata": {},
   "outputs": [],
   "source": [
    "%matplotlib inline\n",
    "import matplotlib\n",
    "import matplotlib.pyplot as plt\n",
    "import numpy as np\n",
    "import pandas as pd\n",
    "import pickle\n",
    "from sklearn.utils import shuffle\n",
    "from sklearn.datasets import fetch_20newsgroups\n",
    "from sklearn.feature_extraction.text import CountVectorizer\n",
    "\n",
    "################################################################################################\n",
    "\n",
    "def create_dataframe(doc_tf, doc_targets):\n",
    "    docs = []\n",
    "    for i, bow in enumerate(doc_tf):\n",
    "        d = {'doc_id': i, 'bow': bow, 'label': doc_targets[i]}\n",
    "        docs.append(d)\n",
    "    return pd.DataFrame.from_dict(docs)\n",
    "\n",
    "train = fetch_20newsgroups(subset='train', remove=('headers', 'footers', 'quotes')) \n",
    "test = fetch_20newsgroups(subset='test', remove=('headers', 'footers', 'quotes'))\n",
    "\n",
    "################################################################################################\n",
    "count_vect = CountVectorizer(stop_words='english', max_features=10000, max_df=0.8, min_df=3)\n",
    "train_tf = count_vect.fit_transform(train.data)\n",
    "test_tf = count_vect.transform(test.data)\n",
    "\n",
    "train_df = create_dataframe(train_tf, train.target)\n",
    "test_df = create_dataframe(test_tf, test.target)\n",
    "\n",
    "def get_doc_length(doc_bow):\n",
    "    return doc_bow.sum()\n",
    "\n",
    "# remove an empty document\n",
    "train_df = train_df[train_df.bow.apply(get_doc_length) > 0]\n",
    "test_df = test_df[test_df.bow.apply(get_doc_length) > 0]\n",
    "\n",
    "# split test and cv\n",
    "num_train = len(train_df)\n",
    "num_test = len(test_df) // 2\n",
    "num_cv = len(test_df) - num_test\n",
    "\n",
    "test_df = shuffle(test_df)\n",
    "cv_df = test_df.iloc[:num_cv]\n",
    "test_df = test_df.iloc[num_cv:]\n",
    "\n",
    "# set doc_id as an index\n",
    "train_df.set_index('doc_id', inplace=True)\n",
    "test_df.set_index('doc_id', inplace=True)\n",
    "cv_df.set_index('doc_id', inplace=True)"
   ]
  },
  {
   "cell_type": "code",
   "execution_count": null,
   "metadata": {},
   "outputs": [],
   "source": [
    "# save the dataframes\n",
    "train_df.to_pickle('../dataset/ng20/train.df.pkl')\n",
    "test_df.to_pickle('../dataset/ng20/test.df.pkl')\n",
    "cv_df.to_pickle('../dataset/ng20/cv.df.pkl')\n",
    "\n",
    "# save vocab\n",
    "with open('../dataset/ng20/vocab.pkl', 'wb') as handle:\n",
    "    pickle.dump(count_vect.vocabulary_, handle, protocol=pickle.HIGHEST_PROTOCOL)"
   ]
  },
  {
   "cell_type": "code",
   "execution_count": 9,
   "metadata": {},
   "outputs": [],
   "source": [
    "import os\n",
    "from os.path import join\n",
    "import numpy as np\n",
    "import pandas as pd\n",
    "import pickle\n",
    "import torch\n",
    "from torch.utils.data import Dataset\n",
    "\n",
    "class Newsgroups20Dataset(Dataset):\n",
    "    \"\"\"Newsgroups20 dataset.\"\"\"\n",
    "\n",
    "    def __init__(self, data_dir, download=False, subset='train', bow_format='tf'):\n",
    "        \"\"\"\n",
    "        Args:\n",
    "            data_dir (string): Directory for loading and saving train, test, and cv dataframes.\n",
    "            download (boolean): Download newsgroups20 dataset from sklearn if necessary.\n",
    "            subset (string): Specify subset of the datasets. The choices are: train, test, cv.\n",
    "            bow_format (string): A weight scheme of a bag-of-words document. The choices are:\n",
    "                tf (term frequency), tfidf (term freq with inverse document frequency), bm25.\n",
    "        \"\"\"\n",
    "        self.data_dir = data_dir\n",
    "        self.subset = subset\n",
    "        self.bow_format = bow_format\n",
    "        self.df = self.load_df('{}.df.pkl'.format(subset))\n",
    "        \n",
    "    def load_df(self, df_file):\n",
    "        df_file = os.path.join(self.data_dir, df_file)\n",
    "        return pd.read_pickle(df_file)\n",
    "        \n",
    "    def __len__(self):\n",
    "        return len(self.df)\n",
    "\n",
    "    def __getitem__(self, idx):\n",
    "        doc_bow = self.df.iloc[idx].bow\n",
    "        doc_bow = torch.from_numpy(doc_bow.toarray().squeeze().astype(np.float32))\n",
    "        label = self.df.iloc[idx].label\n",
    "        return (doc_bow, label)"
   ]
  },
  {
   "cell_type": "code",
   "execution_count": 10,
   "metadata": {},
   "outputs": [],
   "source": [
    "train_set = Newsgroups20Dataset('../dataset/ng20', subset='train', download=True, bow_format='tf')\n",
    "train_loader = torch.utils.data.DataLoader(dataset=train_set, batch_size=64, shuffle=True)"
   ]
  },
  {
   "cell_type": "code",
   "execution_count": 12,
   "metadata": {},
   "outputs": [],
   "source": [
    "for xb, yb in train_loader:\n",
    "    break"
   ]
  },
  {
   "cell_type": "code",
   "execution_count": 13,
   "metadata": {},
   "outputs": [
    {
     "data": {
      "text/plain": [
       "torch.Size([64, 10000])"
      ]
     },
     "execution_count": 13,
     "metadata": {},
     "output_type": "execute_result"
    }
   ],
   "source": [
    "xb.size()"
   ]
  },
  {
   "cell_type": "code",
   "execution_count": 14,
   "metadata": {},
   "outputs": [
    {
     "data": {
      "text/plain": [
       "tensor([  5,  10,   2,  14,   8,   4,   5,   3,   1,   6,  16,  15,\n",
       "          3,  12,   4,  14,   4,   8,   9,  15,  13,  15,   9,   0,\n",
       "         15,   1,   9,  17,  13,   2,  10,   2,  13,  12,   1,   9,\n",
       "         12,   9,  10,  17,  13,  10,   6,   9,   2,   1,  10,  17,\n",
       "         13,  14,  11,   9,   1,   6,   9,  12,   5,   6,   5,  15,\n",
       "          1,   2,   0,  11])"
      ]
     },
     "execution_count": 14,
     "metadata": {},
     "output_type": "execute_result"
    }
   ],
   "source": [
    "yb"
   ]
  }
 ],
 "metadata": {
  "kernelspec": {
   "display_name": "Research2018",
   "language": "python",
   "name": "research"
  },
  "language_info": {
   "codemirror_mode": {
    "name": "ipython",
    "version": 3
   },
   "file_extension": ".py",
   "mimetype": "text/x-python",
   "name": "python",
   "nbconvert_exporter": "python",
   "pygments_lexer": "ipython3",
   "version": "3.6.3"
  }
 },
 "nbformat": 4,
 "nbformat_minor": 2
}

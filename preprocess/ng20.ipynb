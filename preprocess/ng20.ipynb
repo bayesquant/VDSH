{
 "cells": [
  {
   "cell_type": "code",
   "execution_count": 1,
   "metadata": {},
   "outputs": [],
   "source": [
    "%matplotlib inline\n",
    "import matplotlib\n",
    "import matplotlib.pyplot as plt\n",
    "import numpy as np\n",
    "import pandas as pd\n",
    "import pickle\n",
    "from sklearn.utils import shuffle\n",
    "from sklearn.datasets import fetch_20newsgroups\n",
    "from sklearn.feature_extraction.text import CountVectorizer\n",
    "\n",
    "################################################################################################\n",
    "use_sklearn_data = True\n",
    "\n",
    "if use_sklearn_data:\n",
    "    train = fetch_20newsgroups(subset='train') #, remove=('headers', 'footers', 'quotes')) \n",
    "    test = fetch_20newsgroups(subset='test') #, remove=('headers', 'footers', 'quotes'))\n",
    "    \n",
    "    train_docs = train.data\n",
    "    train_tags = train.target\n",
    "    test_docs = test.data\n",
    "    test_tags = test.target\n",
    "else:\n",
    "    raw_train_fn = '../dataset/raw/20ng-train-stemmed.txt'\n",
    "    train_docs = []\n",
    "    train_tags = []\n",
    "    with open(raw_train_fn) as raw_text:\n",
    "        for idx, line in enumerate(raw_text):\n",
    "            tokens = line.strip().split()\n",
    "            train_tags.append(tokens[0])\n",
    "            train_docs.append(' '.join(tokens[1:]))\n",
    "\n",
    "    raw_test_fn = '../dataset/raw/20ng-test-stemmed.txt'\n",
    "    test_docs = []\n",
    "    test_tags = []\n",
    "    with open(raw_test_fn) as raw_text:\n",
    "        for idx, line in enumerate(raw_text):\n",
    "            tokens = line.strip().split()\n",
    "            test_tags.append(tokens[0])\n",
    "            test_docs.append(' '.join(tokens[1:]))\n",
    "\n",
    "    category = {cate: i for i, cate in enumerate(list(set(train_tags)))}\n",
    "    train_tags = [category[cate] for cate in train_tags]\n",
    "    test_tags = [category[cate] for cate in test_tags]"
   ]
  },
  {
   "cell_type": "code",
   "execution_count": 2,
   "metadata": {},
   "outputs": [
    {
     "name": "stdout",
     "output_type": "stream",
     "text": [
      "num train: 11314 num test: 7532\n"
     ]
    }
   ],
   "source": [
    "################################################################################################\n",
    "# count_vect = CountVectorizer(stop_words='english', max_features=10000, max_df=0.8, min_df=3)\n",
    "# train_tf = count_vect.fit_transform(train_docs)\n",
    "# test_tf = count_vect.transform(test_docs)\n",
    "\n",
    "from sklearn.feature_extraction.text import TfidfVectorizer\n",
    "tfidf = TfidfVectorizer(min_df=3,\n",
    "                        max_df=0.80, \n",
    "                        max_features=10000,\n",
    "                        use_idf=True, sublinear_tf=True,\n",
    "                        norm='l2');\n",
    "train_tf = tfidf.fit_transform(train_docs)\n",
    "test_tf = tfidf.transform(test_docs)\n",
    "\n",
    "################################################################################################\n",
    "def create_dataframe(doc_tf, doc_targets):\n",
    "    docs = []\n",
    "    for i, bow in enumerate(doc_tf):\n",
    "        d = {'doc_id': i, 'bow': bow, 'label': doc_targets[i]}\n",
    "        docs.append(d)\n",
    "    return pd.DataFrame.from_dict(docs)\n",
    "\n",
    "train_df = create_dataframe(train_tf, train_tags)\n",
    "test_df = create_dataframe(test_tf, test_tags)\n",
    "\n",
    "def get_doc_length(doc_bow):\n",
    "    return doc_bow.sum()\n",
    "\n",
    "# remove an empty document\n",
    "train_df = train_df[train_df.bow.apply(get_doc_length) > 0]\n",
    "test_df = test_df[test_df.bow.apply(get_doc_length) > 0]\n",
    "\n",
    "print('num train: {} num test: {}'.format(len(train_df), len(test_df)))"
   ]
  },
  {
   "cell_type": "code",
   "execution_count": 3,
   "metadata": {},
   "outputs": [],
   "source": [
    "def get_num_word(doc_bow):\n",
    "    return doc_bow.nonzero()[1].shape[0]\n",
    "\n",
    "train_df = train_df[train_df.bow.apply(get_num_word) > 5]\n",
    "train_df = train_df[train_df.bow.apply(get_num_word) < 500]\n",
    "test_df = test_df[test_df.bow.apply(get_num_word) > 5]\n",
    "test_df = test_df[test_df.bow.apply(get_num_word) < 500]"
   ]
  },
  {
   "cell_type": "code",
   "execution_count": 4,
   "metadata": {},
   "outputs": [
    {
     "name": "stdout",
     "output_type": "stream",
     "text": [
      "train: 11162 test: 3724 cv: 3724\n"
     ]
    }
   ],
   "source": [
    "# split test and cv\n",
    "num_train = len(train_df)\n",
    "num_test = len(test_df) // 2\n",
    "num_cv = len(test_df) - num_test\n",
    "\n",
    "print('train: {} test: {} cv: {}'.format(num_train, num_test, num_cv))\n",
    "\n",
    "test_df = shuffle(test_df)\n",
    "cv_df = test_df.iloc[:num_cv]\n",
    "test_df = test_df.iloc[num_cv:]\n",
    "\n",
    "# set doc_id as an index\n",
    "train_df.set_index('doc_id', inplace=True)\n",
    "test_df.set_index('doc_id', inplace=True)\n",
    "cv_df.set_index('doc_id', inplace=True)"
   ]
  },
  {
   "cell_type": "code",
   "execution_count": 5,
   "metadata": {},
   "outputs": [],
   "source": [
    "# save the dataframes\n",
    "train_df.to_pickle('../dataset/ng20/train.tfidf.df.pkl')\n",
    "test_df.to_pickle('../dataset/ng20/test.tfidf.df.pkl')\n",
    "cv_df.to_pickle('../dataset/ng20/cv.tfidf.df.pkl')\n",
    "\n",
    "# save vocab\n",
    "with open('../dataset/ng20/vocab.pkl', 'wb') as handle:\n",
    "    pickle.dump(tfidf.vocabulary_, handle, protocol=pickle.HIGHEST_PROTOCOL)"
   ]
  },
  {
   "cell_type": "code",
   "execution_count": null,
   "metadata": {},
   "outputs": [],
   "source": [
    "# TFIDF format\n",
    "from scipy.sparse import csr_matrix, vstack\n",
    "\n",
    "# compute DocFrequency\n",
    "doc_freq = np.zeros(train_df.iloc[0].bow.shape[1])\n",
    "for index, row in train_df.iterrows():\n",
    "    bow = (row.bow.toarray().squeeze() > 0).astype(np.float)\n",
    "    doc_freq += bow\n",
    "    \n",
    "# compute inverse document frequency\n",
    "N = len(train_df)\n",
    "idf = np.log(1. + N / (doc_freq + 1.))\n",
    "\n",
    "def create_tfidf_matrix(doc_tf_df, docidf):\n",
    "    # create TFIDF\n",
    "    doc_tfidf = []\n",
    "    for index, row in doc_tf_df.iterrows():\n",
    "        bow = (row.bow.toarray().squeeze()).astype(np.float)\n",
    "        tfidf = csr_matrix(np.log1p(bow) * docidf)\n",
    "        doc_tfidf.append(tfidf)\n",
    "    return vstack(doc_tfidf)\n",
    "\n",
    "train_tfidf_df = create_dataframe(create_tfidf_matrix(train_df, idf), list(train_df.label))\n",
    "test_tfidf_df = create_dataframe(create_tfidf_matrix(test_df, idf), list(test_df.label))\n",
    "cv_tfidf_df = create_dataframe(create_tfidf_matrix(cv_df, idf), list(cv_df.label))\n",
    "\n",
    "# save the dataframes\n",
    "train_tfidf_df.set_index('doc_id', inplace=True)\n",
    "test_tfidf_df.set_index('doc_id', inplace=True)\n",
    "cv_tfidf_df.set_index('doc_id', inplace=True)\n",
    "\n",
    "train_tfidf_df.to_pickle('../dataset/ng20/train.tfidf.df.pkl')\n",
    "test_tfidf_df.to_pickle('../dataset/ng20/test.tfidf.df.pkl')\n",
    "cv_tfidf_df.to_pickle('../dataset/ng20/cv.tfidf.df.pkl')"
   ]
  },
  {
   "cell_type": "code",
   "execution_count": null,
   "metadata": {},
   "outputs": [],
   "source": [
    "# Binary format\n",
    "from scipy.sparse import csr_matrix, vstack\n",
    "\n",
    "def create_bin_matrix(doc_tf_df):\n",
    "    # create TFIDF\n",
    "    doc_bin = []\n",
    "    for index, row in doc_tf_df.iterrows():\n",
    "        bow = (row.bow.toarray().squeeze() > 0).astype(np.float)\n",
    "        bow = csr_matrix(bow)\n",
    "        doc_bin.append(bow)\n",
    "    return vstack(doc_bin)\n",
    "\n",
    "train_bin_df = create_dataframe(create_bin_matrix(train_df), list(train_df.label))\n",
    "test_bin_df = create_dataframe(create_bin_matrix(test_df), list(test_df.label))\n",
    "cv_bin_df = create_dataframe(create_bin_matrix(cv_df), list(cv_df.label))\n",
    "\n",
    "# save the dataframes\n",
    "train_bin_df.to_pickle('../dataset/ng20/train.bin.df.pkl')\n",
    "test_bin_df.to_pickle('../dataset/ng20/test.bin.df.pkl')\n",
    "cv_bin_df.to_pickle('../dataset/ng20/cv.bin.df.pkl')"
   ]
  },
  {
   "cell_type": "code",
   "execution_count": null,
   "metadata": {},
   "outputs": [],
   "source": [
    "# import os\n",
    "# from os.path import join\n",
    "# import numpy as np\n",
    "# import pandas as pd\n",
    "# import pickle\n",
    "# import torch\n",
    "# from torch.utils.data import Dataset\n",
    "\n",
    "# class Newsgroups20Dataset(Dataset):\n",
    "#     \"\"\"Newsgroups20 dataset.\"\"\"\n",
    "\n",
    "#     def __init__(self, data_dir, download=False, subset='train', bow_format='tf'):\n",
    "#         \"\"\"\n",
    "#         Args:\n",
    "#             data_dir (string): Directory for loading and saving train, test, and cv dataframes.\n",
    "#             download (boolean): Download newsgroups20 dataset from sklearn if necessary.\n",
    "#             subset (string): Specify subset of the datasets. The choices are: train, test, cv.\n",
    "#             bow_format (string): A weight scheme of a bag-of-words document. The choices are:\n",
    "#                 tf (term frequency), tfidf (term freq with inverse document frequency), bm25.\n",
    "#         \"\"\"\n",
    "#         self.data_dir = data_dir\n",
    "#         self.subset = subset\n",
    "#         self.bow_format = bow_format\n",
    "#         self.df = self.load_df('{}.{}.df.pkl'.format(subset, bow_format))\n",
    "        \n",
    "#     def load_df(self, df_file):\n",
    "#         df_file = os.path.join(self.data_dir, df_file)\n",
    "#         return pd.read_pickle(df_file)\n",
    "        \n",
    "#     def __len__(self):\n",
    "#         return len(self.df)\n",
    "\n",
    "#     def __getitem__(self, idx):\n",
    "#         doc_bow = self.df.iloc[idx].bow\n",
    "#         doc_bow = torch.from_numpy(doc_bow.toarray().squeeze().astype(np.float32))\n",
    "#         label = self.df.iloc[idx].label\n",
    "#         return (doc_bow, label)"
   ]
  },
  {
   "cell_type": "code",
   "execution_count": null,
   "metadata": {},
   "outputs": [],
   "source": [
    "train_set = Newsgroups20Dataset('../dataset/ng20', subset='train', download=True, bow_format='tf')\n",
    "train_loader = torch.utils.data.DataLoader(dataset=train_set, batch_size=64, shuffle=True)"
   ]
  },
  {
   "cell_type": "code",
   "execution_count": null,
   "metadata": {},
   "outputs": [],
   "source": [
    "for xb, yb in train_loader:\n",
    "    break"
   ]
  },
  {
   "cell_type": "code",
   "execution_count": null,
   "metadata": {},
   "outputs": [],
   "source": [
    "xb.size()"
   ]
  },
  {
   "cell_type": "code",
   "execution_count": null,
   "metadata": {},
   "outputs": [],
   "source": [
    "yb"
   ]
  }
 ],
 "metadata": {
  "kernelspec": {
   "display_name": "Research2018",
   "language": "python",
   "name": "research"
  },
  "language_info": {
   "codemirror_mode": {
    "name": "ipython",
    "version": 3
   },
   "file_extension": ".py",
   "mimetype": "text/x-python",
   "name": "python",
   "nbconvert_exporter": "python",
   "pygments_lexer": "ipython3",
   "version": "3.6.3"
  }
 },
 "nbformat": 4,
 "nbformat_minor": 2
}

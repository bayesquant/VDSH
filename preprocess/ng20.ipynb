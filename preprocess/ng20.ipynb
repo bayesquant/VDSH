{
 "cells": [
  {
   "cell_type": "code",
   "execution_count": 1,
   "metadata": {},
   "outputs": [],
   "source": [
    "import os\n",
    "import numpy as np\n",
    "import pandas as pd\n",
    "from pathlib import Path\n",
    "\n",
    "##################################################################################################\n",
    "\n",
    "home = str(Path.home())"
   ]
  },
  {
   "cell_type": "code",
   "execution_count": 2,
   "metadata": {},
   "outputs": [],
   "source": [
    "from sklearn.datasets import fetch_rcv1\n",
    "rcv1 = fetch_rcv1()"
   ]
  },
  {
   "cell_type": "code",
   "execution_count": 3,
   "metadata": {},
   "outputs": [],
   "source": [
    "num_labels = 40\n",
    "num_vocabs = 15000"
   ]
  },
  {
   "cell_type": "code",
   "execution_count": 4,
   "metadata": {},
   "outputs": [],
   "source": [
    "num_labels = 40\n",
    "num_vocabs = 15000\n",
    "\n",
    "feature_indices = np.argsort(-rcv1.target.sum(axis=0), axis=1)[0, :num_labels]\n",
    "feature_indices = np.asarray(feature_indices).squeeze()\n",
    "targets = rcv1.target[:, feature_indices]\n",
    "\n",
    "word_indices = np.argsort(-rcv1.data.sum(axis=0), axis=1)[0, :num_vocabs]\n",
    "word_indices = np.asarray(word_indices).squeeze()\n",
    "documents = rcv1.data[:, word_indices]\n",
    "\n",
    "targets = [t for t in targets]\n",
    "documents = [d for d in documents]\n",
    "\n",
    "df = pd.DataFrame({'doc_id': rcv1.sample_id.tolist(), 'bow': documents, 'label': targets})\n",
    "df.set_index('doc_id', inplace=True)\n",
    "print('total docs: {}'.format(len(df)))"
   ]
  },
  {
   "cell_type": "code",
   "execution_count": 5,
   "metadata": {},
   "outputs": [],
   "source": []
  },
  {
   "cell_type": "code",
   "execution_count": 9,
   "metadata": {},
   "outputs": [],
   "source": []
  },
  {
   "cell_type": "code",
   "execution_count": 21,
   "metadata": {},
   "outputs": [],
   "source": []
  },
  {
   "cell_type": "code",
   "execution_count": 33,
   "metadata": {},
   "outputs": [
    {
     "name": "stdout",
     "output_type": "stream",
     "text": [
      "after filter: total docs: 804414\n"
     ]
    }
   ],
   "source": [
    "# remove any empty labels\n",
    "def count_num_tags(target):\n",
    "    return target.sum()\n",
    "\n",
    "df = df[df.label.apply(count_num_tags) > 0]\n",
    "print('after filter: total docs: {}'.format(len(df)))\n",
    "\n",
    "def get_num_word(bow):\n",
    "    return bow.count_nonzero()\n",
    "\n",
    "df = df[df.bow.apply(get_num_word) > 0]\n",
    "print('after filter: total docs: {}'.format(len(df)))"
   ]
  },
  {
   "cell_type": "code",
   "execution_count": 38,
   "metadata": {},
   "outputs": [
    {
     "name": "stdout",
     "output_type": "stream",
     "text": [
      "after filter: total docs: 804414\n"
     ]
    }
   ],
   "source": []
  },
  {
   "cell_type": "code",
   "execution_count": 39,
   "metadata": {},
   "outputs": [],
   "source": []
  },
  {
   "cell_type": "code",
   "execution_count": 40,
   "metadata": {},
   "outputs": [
    {
     "name": "stdout",
     "output_type": "stream",
     "text": [
      "remove any short document that has less than 5 words.\n",
      "num docs: 804393\n",
      "remove any long document that has more than 500 words.\n",
      "num docs: 804279\n"
     ]
    }
   ],
   "source": [
    "# remove any empty documents\n",
    "if remove_short_document:\n",
    "    print('remove any short document that has less than 5 words.')\n",
    "    df = df[df.bow.apply(get_num_word) > 5]\n",
    "    print('num docs: {}'.format(len(df)))\n",
    "\n",
    "if remove_long_document:\n",
    "    print('remove any long document that has more than 500 words.')\n",
    "    df = df[df.bow.apply(get_num_word) <= 500]\n",
    "    print('num docs: {}'.format(len(df)))\n",
    "\n",
    "df = df.reindex(np.random.permutation(df.index))"
   ]
  },
  {
   "cell_type": "code",
   "execution_count": 55,
   "metadata": {},
   "outputs": [],
   "source": [
    "num_train = 100000\n",
    "num_test = 20000\n",
    "\n",
    "sampled_df = df.sample(num_train + num_test)\n",
    "train_df = sampled_df.iloc[:num_train]\n",
    "\n",
    "test_df = sampled_df.iloc[num_train:]\n",
    "cv_df = test_df[:num_test//2]\n",
    "test_df = test_df[num_test//2:]\n",
    "\n",
    "print('num train: {} num test: {} num cv: {}'.format(len(df_train), len(df_test), len(df_cv)))"
   ]
  },
  {
   "cell_type": "code",
   "execution_count": 59,
   "metadata": {},
   "outputs": [
    {
     "name": "stdout",
     "output_type": "stream",
     "text": [
      "num train: 100000 num test: 10000 num cv: 10000\n"
     ]
    }
   ],
   "source": [
    "# save the dataframes\n",
    "save_dir = '../dataset/rcv1'.format(args.dataset)\n",
    "print('save tfidf dataset to {} ...'.format(save_dir))\n",
    "\n",
    "train_df.to_pickle(os.path.join(save_dir, 'train.tf.df.pkl'))\n",
    "test_df.to_pickle(os.path.join(save_dir, 'test.tf.df.pkl'))\n",
    "cv_df.to_pickle(os.path.join(save_dir, 'cv.tf.df.pkl'))"
   ]
  },
  {
   "cell_type": "code",
   "execution_count": null,
   "metadata": {},
   "outputs": [],
   "source": [
    "from scipy.sparse import csr_matrix, vstack\n",
    "\n",
    "data_dir = os.path.join(home, 'datasets/tmc')\n",
    "with open(os.path.join(data_dir, 'TMC_TrainCategoryMatrix.csv')) as handle:\n",
    "    y_train = [[(int(v)+1)//2 for v in line.strip().split(',')] for line in handle]\n",
    "    y_train = np.array(y_train)\n",
    "    y_train = csr_matrix(y_train)\n",
    "\n",
    "with open(os.path.join(data_dir, 'TMC_TestTruth.csv')) as handle:\n",
    "    y_test = [[(int(v)+1)//2 for v in line.strip().split(',')] for line in handle]\n",
    "    y_test = np.array(y_test)\n",
    "    y_test = csr_matrix(y_test)\n"
   ]
  },
  {
   "cell_type": "code",
   "execution_count": null,
   "metadata": {},
   "outputs": [],
   "source": []
  },
  {
   "cell_type": "code",
   "execution_count": null,
   "metadata": {},
   "outputs": [],
   "source": [
    "len(train_docs)"
   ]
  },
  {
   "cell_type": "code",
   "execution_count": null,
   "metadata": {},
   "outputs": [],
   "source": [
    "y_train"
   ]
  },
  {
   "cell_type": "code",
   "execution_count": null,
   "metadata": {},
   "outputs": [],
   "source": [
    "with open('dataset/tmc/TMC_TrainCategoryMatrix.csv') as label_data:\n",
    "    cnt = 0\n",
    "    y = []\n",
    "    for line in label_data:\n",
    "        y.append([(int(v)+1)/2 for v in line.strip().split(',')])\n",
    "\n",
    "    gnd_train = np.array(y)\n",
    "\n",
    "print(gnd_train.shape)\n",
    "\n",
    "with open('dataset/tmc/TMC_TestTruth.csv') as label_data:\n",
    "    cnt = 0\n",
    "    gnd_test = []\n",
    "    for line in label_data:\n",
    "        gnd_test.append([(int(v)+1)/2 for v in line.strip().split(',')])\n",
    "\n",
    "    gnd_test = np.array(gnd_test)\n",
    "\n",
    "print(gnd_test.shape)"
   ]
  },
  {
   "cell_type": "code",
   "execution_count": null,
   "metadata": {},
   "outputs": [],
   "source": [
    "%matplotlib inline\n",
    "\n",
    "import matplotlib\n",
    "import matplotlib.pyplot as plt\n",
    "import numpy as np\n",
    "import pandas as pd\n",
    "import pickle\n",
    "from sklearn.utils import shuffle\n",
    "from sklearn.datasets import fetch_20newsgroups\n",
    "from sklearn.feature_extraction.text import CountVectorizer\n",
    "from nltk.stem import PorterStemmer\n",
    "\n",
    "import os\n",
    "from pathlib import Path\n",
    "\n",
    "################################################################################################\n",
    "\n",
    "home = str(Path.home())\n",
    "\n",
    "################################################################################################\n",
    "use_sklearn_data = True\n",
    "use_stemmer = False\n",
    "remove_short_document = True\n",
    "remove_long_document = True"
   ]
  },
  {
   "cell_type": "code",
   "execution_count": null,
   "metadata": {},
   "outputs": [],
   "source": [
    "if use_sklearn_data:\n",
    "    train = fetch_20newsgroups(subset='train', remove=('headers', 'footers', 'quotes')) \n",
    "    test = fetch_20newsgroups(subset='test', remove=('headers', 'footers', 'quotes'))\n",
    "    \n",
    "    train_docs = train.data\n",
    "    train_tags = train.target\n",
    "    test_docs = test.data\n",
    "    test_tags = test.target\n",
    "else:\n",
    "    raw_train_fn = '../dataset/raw/20ng-train-stemmed.txt'\n",
    "    train_docs = []\n",
    "    train_tags = []\n",
    "    with open(raw_train_fn) as raw_text:\n",
    "        for idx, line in enumerate(raw_text):\n",
    "            tokens = line.strip().split()\n",
    "            train_tags.append(tokens[0])\n",
    "            train_docs.append(' '.join(tokens[1:]))\n",
    "\n",
    "    raw_test_fn = '../dataset/raw/20ng-test-stemmed.txt'\n",
    "    test_docs = []\n",
    "    test_tags = []\n",
    "    with open(raw_test_fn) as raw_text:\n",
    "        for idx, line in enumerate(raw_text):\n",
    "            tokens = line.strip().split()\n",
    "            test_tags.append(tokens[0])\n",
    "            test_docs.append(' '.join(tokens[1:]))\n",
    "\n",
    "    category = {cate: i for i, cate in enumerate(list(set(train_tags)))}\n",
    "    train_tags = [category[cate] for cate in train_tags]\n",
    "    test_tags = [category[cate] for cate in test_tags]"
   ]
  },
  {
   "cell_type": "code",
   "execution_count": null,
   "metadata": {},
   "outputs": [],
   "source": [
    "root_dir = os.path.join(home, 'datasets/dbpedia')"
   ]
  },
  {
   "cell_type": "code",
   "execution_count": null,
   "metadata": {},
   "outputs": [],
   "source": [
    "train_fn = os.path.join(root_dir, 'train.csv')\n",
    "df = pd.read_csv(train_fn, header=None)\n",
    "df.columns = ['label', 'title', 'body']\n",
    "train_docs = list(df.body)\n",
    "train_tags = list(df.label - 1)\n",
    "\n",
    "test_fn = os.path.join(root_dir, 'test.csv')\n",
    "df = pd.read_csv(test_fn, header=None)\n",
    "df.columns = ['label', 'title', 'body']\n",
    "test_docs = list(df.body)\n",
    "test_tags = list(df.label - 1)"
   ]
  },
  {
   "cell_type": "code",
   "execution_count": null,
   "metadata": {},
   "outputs": [],
   "source": [
    "if use_stemmer:\n",
    "    ps = PorterStemmer()\n",
    "    def stem_docs(stemmer, docs):\n",
    "        stemmed_docs = []\n",
    "        for doc in train_docs:\n",
    "            stemmed_docs.append(' '.join([ps.stem(w) for w in doc.split()]))\n",
    "        return stemmed_docs\n",
    "    train_docs = stem_docs(ps, train_docs)\n",
    "    test_docs = stem_docs(ps, test_docs)"
   ]
  },
  {
   "cell_type": "code",
   "execution_count": null,
   "metadata": {},
   "outputs": [],
   "source": [
    "################################################################################################\n",
    "count_vect = CountVectorizer(stop_words='english', max_features=10000, max_df=0.8, min_df=3)\n",
    "train_tf = count_vect.fit_transform(train_docs)\n",
    "test_tf = count_vect.transform(test_docs)\n",
    "\n",
    "def create_dataframe(doc_tf, doc_targets):\n",
    "    docs = []\n",
    "    for i, bow in enumerate(doc_tf):\n",
    "        d = {'doc_id': i, 'bow': bow, 'label': doc_targets[i]}\n",
    "        docs.append(d)\n",
    "    df = pd.DataFrame.from_dict(docs)\n",
    "    df.set_index('doc_id', inplace=True)\n",
    "    return df\n",
    "\n",
    "train_df = create_dataframe(train_tf, train_tags)\n",
    "test_df = create_dataframe(test_tf, test_tags)\n",
    "\n",
    "def get_doc_length(doc_bow):\n",
    "    return doc_bow.sum()\n",
    "\n",
    "# def get_num_word(doc_bow):\n",
    "#     return doc_bow.nonzero()[1].shape[0]\n",
    "\n",
    "# remove an empty document\n",
    "train_df = train_df[train_df.bow.apply(get_doc_length) > 0]\n",
    "test_df = test_df[test_df.bow.apply(get_doc_length) > 0]\n",
    "\n",
    "print('num train: {} num test: {}'.format(len(train_df), len(test_df)))\n",
    "\n",
    "if remove_short_document:\n",
    "    print('remove any short document that has less than 5 words.')\n",
    "    train_df = train_df[train_df.bow.apply(get_doc_length) > 5]\n",
    "    test_df = test_df[test_df.bow.apply(get_doc_length) > 5]\n",
    "    print('num train: {} num test: {}'.format(len(train_df), len(test_df)))\n",
    "\n",
    "if remove_long_document:\n",
    "    print('remove any long document that has more than 500 words.')\n",
    "    train_df = train_df[train_df.bow.apply(get_doc_length) <= 500]\n",
    "    test_df = test_df[test_df.bow.apply(get_doc_length) <= 500]\n",
    "    print('num train: {} num test: {}'.format(len(train_df), len(test_df)))"
   ]
  },
  {
   "cell_type": "code",
   "execution_count": null,
   "metadata": {},
   "outputs": [],
   "source": [
    "test_df.sample(n=1000)"
   ]
  },
  {
   "cell_type": "code",
   "execution_count": null,
   "metadata": {},
   "outputs": [],
   "source": [
    "# split test and cv\n",
    "num_train = len(train_df)\n",
    "num_test = len(test_df) // 2\n",
    "num_cv = len(test_df) - num_test\n",
    "\n",
    "print('train: {} test: {} cv: {}'.format(num_train, num_test, num_cv))\n",
    "\n",
    "test_df = shuffle(test_df)\n",
    "cv_df = test_df.iloc[:num_cv]\n",
    "test_df = test_df.iloc[num_cv:]"
   ]
  },
  {
   "cell_type": "code",
   "execution_count": null,
   "metadata": {},
   "outputs": [],
   "source": [
    "# save the dataframes\n",
    "print('save tf dataset ...')\n",
    "train_df.to_pickle('../dataset/ng20/train.tf.df.pkl')\n",
    "test_df.to_pickle('../dataset/ng20/test.tf.df.pkl')\n",
    "cv_df.to_pickle('../dataset/ng20/cv.tf.df.pkl')\n",
    "\n",
    "# save vocab\n",
    "with open('../dataset/ng20/vocab.pkl', 'wb') as handle:\n",
    "    pickle.dump(count_vect.vocabulary_, handle, protocol=pickle.HIGHEST_PROTOCOL)"
   ]
  },
  {
   "cell_type": "markdown",
   "metadata": {},
   "source": [
    "## TFIDF format"
   ]
  },
  {
   "cell_type": "code",
   "execution_count": null,
   "metadata": {},
   "outputs": [],
   "source": [
    "import os\n",
    "import numpy as np\n",
    "import pandas as pd\n",
    "import pickle\n",
    "from sklearn.feature_extraction.text import TfidfTransformer\n",
    "from scipy.sparse import coo_matrix, vstack"
   ]
  },
  {
   "cell_type": "code",
   "execution_count": null,
   "metadata": {},
   "outputs": [],
   "source": [
    "dataset = 'ng20'\n",
    "data_dir = '../dataset/{}'.format(dataset)\n",
    "\n",
    "train_df = pd.read_pickle(os.path.join(data_dir, 'train.tf.df.pkl'))\n",
    "test_df = pd.read_pickle(os.path.join(data_dir, 'test.tf.df.pkl'))\n",
    "cv_df = pd.read_pickle(os.path.join(data_dir, 'cv.tf.df.pkl'))\n"
   ]
  },
  {
   "cell_type": "code",
   "execution_count": null,
   "metadata": {},
   "outputs": [],
   "source": [
    "from sklearn.feature_extraction.text import TfidfTransformer\n",
    "from scipy.sparse import coo_matrix, vstack\n",
    "\n",
    "def convert_to_dataframe(source_df, doc_id_list, bow_list, label_list):\n",
    "    df = pd.DataFrame({'doc_id': doc_id_list, 'bow': bow_list, 'label': label_list})\n",
    "    df.set_index('doc_id', inplace=True)\n",
    "    return df\n",
    "\n",
    "train_tf = vstack(list(train_df.bow))\n",
    "test_tf = vstack(list(test_df.bow))\n",
    "cv_tf = vstack(list(cv_df.bow))\n",
    "\n",
    "transformer = TfidfTransformer(sublinear_tf=True)\n",
    "train_tfidf = transformer.fit_transform(train_tf)\n",
    "test_tfidf = transformer.transform(test_tf)\n",
    "cv_tfidf = transformer.transform(cv_tf)\n",
    "\n",
    "train_tfidf_df = convert_to_dataframe(train_df, list(train_df.index), [bow for bow in train_tfidf], list(train_df.label))\n",
    "test_tfidf_df = convert_to_dataframe(test_df, list(test_df.index), [bow for bow in test_tfidf], list(test_df.label))\n",
    "cv_tfidf_df = convert_to_dataframe(cv_df, list(cv_df.index), [bow for bow in cv_tfidf], list(cv_df.label))\n",
    "\n",
    "train_tfidf_df.to_pickle('../dataset/ng20/train.tfidf.df.pkl')\n",
    "test_tfidf_df.to_pickle('../dataset/ng20/test.tfidf.df.pkl')\n",
    "cv_tfidf_df.to_pickle('../dataset/ng20/cv.tfidf.df.pkl')"
   ]
  },
  {
   "cell_type": "code",
   "execution_count": null,
   "metadata": {},
   "outputs": [],
   "source": [
    "# Binary format\n",
    "from scipy.sparse import csr_matrix, vstack\n",
    "\n",
    "def create_dataframe(doc_tf, doc_targets):\n",
    "    docs = []\n",
    "    for i, bow in enumerate(doc_tf):\n",
    "        d = {'doc_id': i, 'bow': bow, 'label': doc_targets[i]}\n",
    "        docs.append(d)\n",
    "    df = pd.DataFrame.from_dict(docs)\n",
    "    df.set_index('doc_id', inplace=True)\n",
    "    return df\n",
    "\n",
    "def create_bin_matrix(doc_tf_df):\n",
    "    # create TFIDF\n",
    "    doc_bin = []\n",
    "    for index, row in doc_tf_df.iterrows():\n",
    "        bow = (row.bow.toarray().squeeze() > 0).astype(np.float)\n",
    "        bow = csr_matrix(bow)\n",
    "        doc_bin.append(bow)\n",
    "    return vstack(doc_bin)\n",
    "\n",
    "train_bin_df = create_dataframe(create_bin_matrix(train_df), list(train_df.label))\n",
    "test_bin_df = create_dataframe(create_bin_matrix(test_df), list(test_df.label))\n",
    "cv_bin_df = create_dataframe(create_bin_matrix(cv_df), list(cv_df.label))\n",
    "\n",
    "# save the dataframes\n",
    "train_bin_df.to_pickle('../dataset/ng20/train.bin.df.pkl')\n",
    "test_bin_df.to_pickle('../dataset/ng20/test.bin.df.pkl')\n",
    "cv_bin_df.to_pickle('../dataset/ng20/cv.bin.df.pkl')"
   ]
  }
 ],
 "metadata": {
  "kernelspec": {
   "display_name": "Research2018",
   "language": "python",
   "name": "research"
  },
  "language_info": {
   "codemirror_mode": {
    "name": "ipython",
    "version": 3
   },
   "file_extension": ".py",
   "mimetype": "text/x-python",
   "name": "python",
   "nbconvert_exporter": "python",
   "pygments_lexer": "ipython3",
   "version": "3.6.3"
  }
 },
 "nbformat": 4,
 "nbformat_minor": 2
}

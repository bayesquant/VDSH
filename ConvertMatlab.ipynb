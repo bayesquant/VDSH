{
 "cells": [
  {
   "cell_type": "code",
   "execution_count": 8,
   "metadata": {},
   "outputs": [],
   "source": [
    "import numpy as np\n",
    "from scipy.io import loadmat\n",
    "import pandas as pd\n",
    "from datasets import *\n",
    "\n",
    "#data = loadmat('/home/schaidaroon/research/VariationalDeepSemanticHashing/dataset/ng20.tfidf.mat')\n",
    "data = loadmat('dataset/ng20/ng20.tfidf.mat')\n",
    "\n",
    "train = data['train']\n",
    "test = data['test']\n",
    "gnd_train = np.argmax(data['gnd_train'], axis=1)\n",
    "gnd_test = np.argmax(data['gnd_test'], axis=1)"
   ]
  },
  {
   "cell_type": "code",
   "execution_count": 9,
   "metadata": {},
   "outputs": [],
   "source": [
    "def create_dataframe(train, gnd_train):\n",
    "    train_data = []\n",
    "    num_train = train.shape[0]\n",
    "    for i in range(num_train):\n",
    "        doc = {'doc_id': i, 'bow': train[i], 'label': gnd_train[i]}\n",
    "        train_data.append(doc)\n",
    "\n",
    "    train_df = pd.DataFrame.from_dict(train_data)\n",
    "    train_df.set_index('doc_id', inplace=True)\n",
    "    return train_df\n",
    "\n",
    "train_df = create_dataframe(train, gnd_train)\n",
    "test_df = create_dataframe(test, gnd_test)"
   ]
  },
  {
   "cell_type": "code",
   "execution_count": 3,
   "metadata": {},
   "outputs": [],
   "source": [
    "train_df.to_pickle('dataset/ng20/train.tf.df.pkl')\n",
    "test_df.to_pickle('dataset/ng20/test.tf.df.pkl')"
   ]
  },
  {
   "cell_type": "code",
   "execution_count": 4,
   "metadata": {},
   "outputs": [],
   "source": [
    "dataset = 'ng20'\n",
    "data_fmt = 'tf'\n",
    "train_set = SingleLabelTextDataset('dataset/{}'.format(dataset), subset='train', bow_format=data_fmt, download=True)\n",
    "#train_loader = torch.utils.data.DataLoader(dataset=train_set, batch_size=args.train_batch_size, shuffle=True)"
   ]
  },
  {
   "cell_type": "code",
   "execution_count": 5,
   "metadata": {},
   "outputs": [],
   "source": [
    "train_loader = torch.utils.data.DataLoader(dataset=train_set, batch_size=100, shuffle=True)"
   ]
  },
  {
   "cell_type": "code",
   "execution_count": 7,
   "metadata": {},
   "outputs": [
    {
     "data": {
      "text/plain": [
       "11016"
      ]
     },
     "execution_count": 7,
     "metadata": {},
     "output_type": "execute_result"
    }
   ],
   "source": [
    "len(train_set)"
   ]
  },
  {
   "cell_type": "code",
   "execution_count": 6,
   "metadata": {},
   "outputs": [
    {
     "name": "stdout",
     "output_type": "stream",
     "text": [
      "torch.Size([100, 10000])\n",
      "torch.Size([100])\n"
     ]
    }
   ],
   "source": [
    "for xb, yb in train_loader:\n",
    "    print(xb.size())\n",
    "    print(yb.size())\n",
    "    break"
   ]
  },
  {
   "cell_type": "code",
   "execution_count": null,
   "metadata": {},
   "outputs": [],
   "source": [
    "xb[0].sum()"
   ]
  }
 ],
 "metadata": {
  "kernelspec": {
   "display_name": "Research2018",
   "language": "python",
   "name": "research"
  },
  "language_info": {
   "codemirror_mode": {
    "name": "ipython",
    "version": 3
   },
   "file_extension": ".py",
   "mimetype": "text/x-python",
   "name": "python",
   "nbconvert_exporter": "python",
   "pygments_lexer": "ipython3",
   "version": "3.6.3"
  }
 },
 "nbformat": 4,
 "nbformat_minor": 2
}

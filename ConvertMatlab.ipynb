{
 "cells": [
  {
   "cell_type": "code",
   "execution_count": 1,
   "metadata": {},
   "outputs": [],
   "source": [
    "import numpy as np\n",
    "from scipy.io import loadmat\n",
    "import pandas as pd\n",
    "\n",
    "data = loadmat('/home/schaidaroon/research/VariationalDeepSemanticHashing/dataset/ng20.tfidf.mat')\n",
    "\n",
    "train = data['train']\n",
    "test = data['test']\n",
    "gnd_train = np.argmax(data['gnd_train'], axis=1)\n",
    "gnd_test = np.argmax(data['gnd_test'], axis=1)"
   ]
  },
  {
   "cell_type": "code",
   "execution_count": 2,
   "metadata": {},
   "outputs": [],
   "source": [
    "from datasets import *"
   ]
  },
  {
   "cell_type": "code",
   "execution_count": 3,
   "metadata": {},
   "outputs": [],
   "source": [
    "train_data = []\n",
    "num_train = train.shape[0]\n",
    "for i in range(num_train):\n",
    "    doc = {'doc_id': i, 'bow': train[i], 'label': gnd_train[i]}\n",
    "    train_data.append(doc)\n",
    "\n",
    "train_df = pd.DataFrame.from_dict(train_data)\n",
    "train_df.set_index('doc_id', inplace=True)"
   ]
  },
  {
   "cell_type": "code",
   "execution_count": 4,
   "metadata": {},
   "outputs": [],
   "source": [
    "test_data = []\n",
    "num_test = test.shape[0]\n",
    "for i in range(num_test):\n",
    "    doc = {'doc_id': i, 'bow': test[i], 'label': gnd_test[i]}\n",
    "    test_data.append(doc)\n",
    "test_df = pd.DataFrame.from_dict(test_data)\n",
    "test_df.set_index('doc_id', inplace=True)"
   ]
  },
  {
   "cell_type": "code",
   "execution_count": 6,
   "metadata": {},
   "outputs": [],
   "source": [
    "train_df.to_pickle('dataset/ng20/train.tfidf_orig.df.pkl')\n",
    "test_df.to_pickle('dataset/ng20/test.tfidf_orig.df.pkl')"
   ]
  },
  {
   "cell_type": "code",
   "execution_count": 7,
   "metadata": {},
   "outputs": [],
   "source": [
    "dataset = 'ng20'\n",
    "data_fmt = 'tfidf_orig'\n",
    "train_set = SingleLabelTextDataset('dataset/{}'.format(dataset), subset='train', bow_format=data_fmt, download=True)\n",
    "#train_loader = torch.utils.data.DataLoader(dataset=train_set, batch_size=args.train_batch_size, shuffle=True)"
   ]
  },
  {
   "cell_type": "code",
   "execution_count": 9,
   "metadata": {},
   "outputs": [],
   "source": [
    "train_loader = torch.utils.data.DataLoader(dataset=train_set, batch_size=100, shuffle=True)"
   ]
  },
  {
   "cell_type": "code",
   "execution_count": 10,
   "metadata": {},
   "outputs": [
    {
     "name": "stdout",
     "output_type": "stream",
     "text": [
      "torch.Size([100, 10000])\n",
      "torch.Size([100])\n"
     ]
    }
   ],
   "source": [
    "for xb, yb in train_loader:\n",
    "    print(xb.size())\n",
    "    print(yb.size())\n",
    "    break"
   ]
  },
  {
   "cell_type": "code",
   "execution_count": 13,
   "metadata": {},
   "outputs": [
    {
     "data": {
      "text/plain": [
       "tensor(5.1770)"
      ]
     },
     "execution_count": 13,
     "metadata": {},
     "output_type": "execute_result"
    }
   ],
   "source": [
    "xb[0].sum()"
   ]
  }
 ],
 "metadata": {
  "kernelspec": {
   "display_name": "Research2018",
   "language": "python",
   "name": "research"
  },
  "language_info": {
   "codemirror_mode": {
    "name": "ipython",
    "version": 3
   },
   "file_extension": ".py",
   "mimetype": "text/x-python",
   "name": "python",
   "nbconvert_exporter": "python",
   "pygments_lexer": "ipython3",
   "version": "3.6.3"
  }
 },
 "nbformat": 4,
 "nbformat_minor": 2
}
